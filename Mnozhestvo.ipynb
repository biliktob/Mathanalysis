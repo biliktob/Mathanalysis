{
 "cells": [
  {
   "cell_type": "code",
   "execution_count": 1,
   "id": "d22e76c3",
   "metadata": {},
   "outputs": [],
   "source": [
    "import numpy as np\n",
    "import random\n",
    "import math\n",
    "import itertools\n",
    "from sympy import factorial\n",
    "\n",
    "random.seed(42)\n",
    "a = set([random.randint(0, 99) for _ in range(random.randint(1, 10))])\n",
    "b = set([random.randint(0, 99) for _ in range(random.randint(1, 10))])\n",
    "c = set([random.randint(0, 99) for _ in range(random.randint(1, 10))])\n"
   ]
  },
  {
   "cell_type": "code",
   "execution_count": 2,
   "id": "bff50a09",
   "metadata": {},
   "outputs": [
    {
     "name": "stdout",
     "output_type": "stream",
     "text": [
      "a: {3, 94}\n",
      "b: {13, 17, 28, 94, 31}\n",
      "c: {64, 3, 4, 75, 11, 54, 27, 29}\n"
     ]
    }
   ],
   "source": [
    "print(f'a: {a}')\n",
    "print(f'b: {b}')\n",
    "print(f'c: {c}')"
   ]
  },
  {
   "cell_type": "code",
   "execution_count": 4,
   "id": "10284f06",
   "metadata": {},
   "outputs": [],
   "source": [
    "sets = {\n",
    "    'a' : a,\n",
    "    'b' : b,\n",
    "    'c' : c\n",
    "}"
   ]
  },
  {
   "cell_type": "code",
   "execution_count": 5,
   "id": "1df4cfad",
   "metadata": {},
   "outputs": [
    {
     "name": "stdout",
     "output_type": "stream",
     "text": [
      "Множества: a, b\n",
      "x: {3, 94},\n",
      "y: {13, 17, 28, 94, 31}\n",
      "Объединение a | b: {17, 3, 28, 13, 94, 31}\n",
      "Пересечение a & b: {3}\n",
      "Разность a - b: {3}\n",
      "Симметрическая разность a ^ b: {17, 3, 28, 13, 31}\n",
      "Декартово произведение a * b: {(94, 94), (94, 17), (3, 94), (94, 13), (3, 17), (94, 31), (3, 13), (94, 28), (3, 28), (3, 31)}\n",
      "\n",
      "Множества: a, c\n",
      "x: {3, 94},\n",
      "y: {64, 3, 4, 75, 11, 54, 27, 29}\n",
      "Объединение a | c: {64, 3, 4, 75, 11, 54, 27, 29, 94}\n",
      "Пересечение a & c: {94}\n",
      "Разность a - c: {94}\n",
      "Симметрическая разность a ^ c: {64, 4, 75, 11, 54, 27, 29, 94}\n",
      "Декартово произведение a * c: {(94, 4), (3, 75), (3, 4), (3, 27), (94, 29), (94, 64), (94, 3), (3, 29), (94, 54), (3, 64), (3, 3), (3, 54), (94, 27), (94, 11), (94, 75), (3, 11)}\n",
      "\n",
      "Множества: b, c\n",
      "x: {13, 17, 28, 94, 31},\n",
      "y: {64, 3, 4, 75, 11, 54, 27, 29}\n",
      "Объединение b | c: {64, 3, 4, 75, 11, 13, 17, 54, 27, 28, 29, 94, 31}\n",
      "Пересечение b & c: {13, 17, 28, 94, 31}\n",
      "Разность b - c: {13, 17, 28, 94, 31}\n",
      "Симметрическая разность b ^ c: {64, 3, 4, 75, 11, 13, 17, 54, 27, 28, 29, 94, 31}\n",
      "Декартово произведение b * c: {(31, 11), (13, 27), (31, 75), (17, 64), (17, 3), (28, 64), (28, 3), (94, 64), (94, 3), (13, 54), (31, 29), (94, 27), (13, 11), (17, 27), (13, 75), (28, 27), (31, 4), (13, 29), (17, 54), (28, 54), (94, 54), (17, 11), (28, 11), (94, 11), (17, 75), (28, 75), (94, 75), (13, 4), (17, 29), (28, 29), (94, 29), (31, 64), (31, 3), (28, 4), (17, 4), (94, 4), (31, 27), (13, 64), (13, 3), (31, 54)}\n",
      "\n"
     ]
    }
   ],
   "source": [
    "for combination in itertools.combinations(sets.keys(), 2):\n",
    "    x, y = combination[0], combination[1]\n",
    "    print(f'Множества: {x}, {y}')\n",
    "    print(f'x: {sets[x]},\\ny: {sets[y]}')\n",
    "    print(f'Объединение {x} | {y}: {sets[x] | sets[y]}')\n",
    "    print(f'Пересечение {x} & {y}: {sets[x] - sets[y]}')\n",
    "    print(f'Разность {x} - {y}: {sets[x] - sets[y]}')\n",
    "    print(f'Симметрическая разность {x} ^ {y}: {sets[x] ^ sets[y]}')\n",
    "    cartesian = []\n",
    "    for item in itertools.product(sets[x], sets[y]):\n",
    "        cartesian.append(item)\n",
    "    print(f'Декартово произведение {x} * {y}: {set(cartesian)}')\n",
    "    print()"
   ]
  },
  {
   "cell_type": "code",
   "execution_count": null,
   "id": "bdd1cdd0",
   "metadata": {},
   "outputs": [],
   "source": []
  }
 ],
 "metadata": {
  "kernelspec": {
   "display_name": "Python 3 (ipykernel)",
   "language": "python",
   "name": "python3"
  },
  "language_info": {
   "codemirror_mode": {
    "name": "ipython",
    "version": 3
   },
   "file_extension": ".py",
   "mimetype": "text/x-python",
   "name": "python",
   "nbconvert_exporter": "python",
   "pygments_lexer": "ipython3",
   "version": "3.10.4"
  }
 },
 "nbformat": 4,
 "nbformat_minor": 5
}
