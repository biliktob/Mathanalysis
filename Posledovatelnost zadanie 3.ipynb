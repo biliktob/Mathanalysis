{
 "cells": [
  {
   "cell_type": "code",
   "execution_count": 1,
   "id": "c84e26ff",
   "metadata": {},
   "outputs": [],
   "source": [
    "import numpy as np\n",
    "import random\n",
    "import math\n",
    "import itertools\n",
    "from sympy import factorial"
   ]
  },
  {
   "cell_type": "code",
   "execution_count": 2,
   "id": "5d451e4d",
   "metadata": {},
   "outputs": [],
   "source": [
    "def monotony(sequence):\n",
    "    for i in range(1, len(sequence)):\n",
    "        if sequence[i] > sequence[i-1]:\n",
    "            return 'Последовательность монотонно возрастает'\n",
    "        elif sequence[i] < sequence[i-1]:\n",
    "            return 'Последовательность монотонно убывает'\n",
    "        else:\n",
    "            return 'Последовательность не изменяется'"
   ]
  },
  {
   "cell_type": "code",
   "execution_count": 3,
   "id": "5902fdd5",
   "metadata": {},
   "outputs": [
    {
     "name": "stdout",
     "output_type": "stream",
     "text": [
      "Последовательность монотонно возрастает\n",
      "Первые 10 элементов последовательности 2 ^ n - n: \n",
      "[1, 2, 5, 12, 27, 58, 121, 248, 503, 1014]\n",
      "Пятый по счету член последовательности 2 ^ n - n: 27\n"
     ]
    }
   ],
   "source": [
    "def f1(n):\n",
    "    return 2 ** n-n\n",
    "\n",
    "ns = list(range(1, 11, 1))\n",
    "elements = list(map(f1, ns))\n",
    "\n",
    "print(monotony(elements))\n",
    "print(f'Первые 10 элементов последовательности 2 ^ n - n: \\n{elements}')\n",
    "print(f'Пятый по счету член последовательности 2 ^ n - n: {f1(ns[4])}')\n"
   ]
  },
  {
   "cell_type": "code",
   "execution_count": 4,
   "id": "a7045145",
   "metadata": {},
   "outputs": [
    {
     "name": "stdout",
     "output_type": "stream",
     "text": [
      "Последовательность монотонно убывает\n",
      "Первые 10 элементов последовательности 1 / (n - 1): \n",
      "[1.0, 0.5, 0.3333333333333333, 0.25, 0.2, 0.16666666666666666, 0.14285714285714285, 0.125, 0.1111111111111111, 0.1]\n",
      "Пятый по счету член последовательности 1 / (n - 1): 0.2\n"
     ]
    }
   ],
   "source": [
    "def f2(n):\n",
    "    return 1 / (n - 1)\n",
    "\n",
    "ns = list(range(2, 12, 1))\n",
    "elements = list(map(f2, ns))\n",
    "print(monotony(elements))\n",
    "print(f'Первые 10 элементов последовательности 1 / (n - 1): \\n{elements}')\n",
    "print(f'Пятый по счету член последовательности 1 / (n - 1): {f2(ns[4])}')\n"
   ]
  },
  {
   "cell_type": "code",
   "execution_count": 5,
   "id": "533de15c",
   "metadata": {},
   "outputs": [
    {
     "name": "stdout",
     "output_type": "stream",
     "text": [
      "Последовательность монотонно возрастает\n",
      "Первые 10 элементов последовательности -1 ^ n + sqrt(2 * n): \n",
      "[0.41421356237309515, 1.0, 1.4494897427831779, 1.8284271247461903, 2.1622776601683795, 2.4641016151377544, 2.7416573867739413, 3.0, 3.2426406871192848, 3.4721359549995796]\n",
      "Пятый по счету член псоледовательности -1 ^ n + sqrt(2 * n): 2.1622776601683795\n"
     ]
    }
   ],
   "source": [
    "def f3(n):\n",
    "    return - 1 ** n + math.sqrt(2 * n)\n",
    "\n",
    "ns = list(range(1, 11, 1))\n",
    "elements = list(map(f3, ns))\n",
    "\n",
    "print(monotony(elements))\n",
    "print(f'Первые 10 элементов последовательности -1 ^ n + sqrt(2 * n): \\n{elements}')\n",
    "print(f'Пятый по счету член псоледовательности -1 ^ n + sqrt(2 * n): {f3(ns[4])}')"
   ]
  },
  {
   "cell_type": "code",
   "execution_count": 6,
   "id": "ac9c5ba8",
   "metadata": {},
   "outputs": [
    {
     "name": "stdout",
     "output_type": "stream",
     "text": [
      "Последовательность монотонно убывает\n",
      "Первые 10 элементов последовательности (-1) ^ (2 * n) + 1 / (n ^ 2): \n",
      "[2.0, 1.25, 1.1111111111111112, 1.0625, 1.04, 1.0277777777777777, 1.0204081632653061, 1.015625, 1.0123456790123457, 1.01]\n",
      "Пятый по счету член последовательности (-1) ^ (2 * n) + 1 / (n ^ 2): 1.04\n"
     ]
    }
   ],
   "source": [
    "def f4(n):\n",
    "    return (-1) ** (2 * n) + 1 / (n ** 2)\n",
    "\n",
    "ns = list (range(1, 11, 1))\n",
    "elements = list(map(f4, ns))\n",
    "\n",
    "print(monotony(elements))\n",
    "print(f'Первые 10 элементов последовательности (-1) ^ (2 * n) + 1 / (n ^ 2): \\n{elements}')\n",
    "print(f'Пятый по счету член последовательности (-1) ^ (2 * n) + 1 / (n ^ 2): {f4(ns[4])}')"
   ]
  },
  {
   "cell_type": "code",
   "execution_count": null,
   "id": "2e45cbfd",
   "metadata": {},
   "outputs": [],
   "source": []
  }
 ],
 "metadata": {
  "kernelspec": {
   "display_name": "Python 3 (ipykernel)",
   "language": "python",
   "name": "python3"
  },
  "language_info": {
   "codemirror_mode": {
    "name": "ipython",
    "version": 3
   },
   "file_extension": ".py",
   "mimetype": "text/x-python",
   "name": "python",
   "nbconvert_exporter": "python",
   "pygments_lexer": "ipython3",
   "version": "3.10.4"
  }
 },
 "nbformat": 4,
 "nbformat_minor": 5
}
