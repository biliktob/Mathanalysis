{
 "cells": [
  {
   "cell_type": "code",
   "execution_count": 2,
   "id": "f756d376",
   "metadata": {},
   "outputs": [
    {
     "name": "stdout",
     "output_type": "stream",
     "text": [
      "a12: 194\n"
     ]
    }
   ],
   "source": [
    "a1 = 128\n",
    "d = 6\n",
    "a12 = a1 + (12 - 1) * d\n",
    "print(f'a12: {a12}')"
   ]
  },
  {
   "cell_type": "code",
   "execution_count": 3,
   "id": "a248dc0d",
   "metadata": {},
   "outputs": [
    {
     "name": "stdout",
     "output_type": "stream",
     "text": [
      "a12: 194\n"
     ]
    }
   ],
   "source": [
    "a1 = 128\n",
    "d = 6\n",
    "\n",
    "a12 = a1\n",
    "for _ in range(11):\n",
    "    a12 += d\n",
    "\n",
    "print(f'a12: {a12}')"
   ]
  },
  {
   "cell_type": "code",
   "execution_count": null,
   "id": "dd86816a",
   "metadata": {},
   "outputs": [],
   "source": []
  }
 ],
 "metadata": {
  "kernelspec": {
   "display_name": "Python 3 (ipykernel)",
   "language": "python",
   "name": "python3"
  },
  "language_info": {
   "codemirror_mode": {
    "name": "ipython",
    "version": 3
   },
   "file_extension": ".py",
   "mimetype": "text/x-python",
   "name": "python",
   "nbconvert_exporter": "python",
   "pygments_lexer": "ipython3",
   "version": "3.10.4"
  }
 },
 "nbformat": 4,
 "nbformat_minor": 5
}
