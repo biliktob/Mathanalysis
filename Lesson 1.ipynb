{
 "cells": [
  {
   "cell_type": "code",
   "execution_count": 1,
   "id": "04e0e3e7",
   "metadata": {},
   "outputs": [],
   "source": [
    "import numpy as np"
   ]
  },
  {
   "cell_type": "markdown",
   "id": "4774f5a1",
   "metadata": {},
   "source": [
    "### Exercise 1"
   ]
  },
  {
   "cell_type": "code",
   "execution_count": 2,
   "id": "b1510a1a",
   "metadata": {},
   "outputs": [
    {
     "name": "stdout",
     "output_type": "stream",
     "text": [
      "a) 33\n",
      "b) -23\n"
     ]
    }
   ],
   "source": [
    "def vect_scalar(a, b):\n",
    "    result = 0\n",
    "    for x, y in zip(a, b):\n",
    "        result += x * y\n",
    "    return result\n",
    "\n",
    "x = [0, -3, 6]\n",
    "y = [-4, 7, 9]\n",
    "print(f'a) {vect_scalar(x, y)}')\n",
    "x = [7, -4, 0, 1]\n",
    "y = [-3, 1, 11, 2]\n",
    "print(f'b) {vect_scalar(x, y)}')\n"
   ]
  },
  {
   "cell_type": "code",
   "execution_count": 3,
   "id": "769b7d10",
   "metadata": {},
   "outputs": [],
   "source": [
    "import math"
   ]
  },
  {
   "cell_type": "markdown",
   "id": "5f93eed6",
   "metadata": {},
   "source": [
    "### Exercise 2"
   ]
  },
  {
   "cell_type": "code",
   "execution_count": 5,
   "id": "1bb4fb90",
   "metadata": {},
   "outputs": [
    {
     "name": "stdout",
     "output_type": "stream",
     "text": [
      "norm(x) = 6.0, norm(y) = 13.0, phi = 26.176952171666542 degrees\n"
     ]
    }
   ],
   "source": [
    "x = np.array([4, 2, 4])\n",
    "y = np.array([12, 3, 4])\n",
    "norm_x = np.sqrt(vect_scalar(x, x))\n",
    "norm_y = np.sqrt(vect_scalar(y, y))\n",
    "cos_phi = vect_scalar(x, y) / (norm_x * norm_y)\n",
    "print(f'norm(x) = {norm_x}, norm(y) = {norm_y}, phi = {math.acos(cos_phi)*(180/math.pi)} degrees')"
   ]
  },
  {
   "cell_type": "code",
   "execution_count": 6,
   "id": "aadb7fdd",
   "metadata": {},
   "outputs": [],
   "source": [
    "from numpy.linalg import norm"
   ]
  },
  {
   "cell_type": "code",
   "execution_count": 7,
   "id": "c9f9b40d",
   "metadata": {},
   "outputs": [
    {
     "data": {
      "text/plain": [
       "(6.0, 13.0, 26.176952171666557)"
      ]
     },
     "execution_count": 7,
     "metadata": {},
     "output_type": "execute_result"
    }
   ],
   "source": [
    "norm(x), norm(y), math.acos(x.dot(y)/norm(x)/norm(y))*(180/math.pi)"
   ]
  },
  {
   "cell_type": "markdown",
   "id": "05b85f7c",
   "metadata": {},
   "source": [
    "### Exercise 3"
   ]
  },
  {
   "cell_type": "code",
   "execution_count": 8,
   "id": "aa788e57",
   "metadata": {},
   "outputs": [],
   "source": [
    "def vect_len_mul(a, b):\n",
    "    return norm(a) * norm(b)"
   ]
  },
  {
   "cell_type": "code",
   "execution_count": 10,
   "id": "57edb45b",
   "metadata": {},
   "outputs": [],
   "source": [
    "def triple_scalar(a, b):\n",
    "    return 3*a.dot(b)"
   ]
  },
  {
   "cell_type": "code",
   "execution_count": 11,
   "id": "e748b8bd",
   "metadata": {},
   "outputs": [],
   "source": [
    "def check_axioms(func):\n",
    "    x = np.array([1, 2, 4])\n",
    "    y = np.array([4, 5, 6])\n",
    "    x1 = np.array([7, 8, 9])\n",
    "    x2 = np.array([2, 5, 11])\n",
    "    Lambda = 3\n",
    "    print(func(x, y) == func(y, x))\n",
    "    print(func(Lambda*x, y) == Lambda*func(x, y))\n",
    "    print(func(x1+x2, y) == (func(x1, y) + func(x2, y)))\n",
    "    nul = np.array([0, 0, 0])\n",
    "    print(func(x, x) >= 0, func(nul, nul) == 0)"
   ]
  },
  {
   "cell_type": "code",
   "execution_count": 13,
   "id": "7c4c9aa0",
   "metadata": {},
   "outputs": [
    {
     "name": "stdout",
     "output_type": "stream",
     "text": [
      "CASE A:\n",
      "True\n",
      "False\n",
      "False\n",
      "True True\n",
      "--------------\n",
      "CASE B\n",
      "True\n",
      "True\n",
      "True\n",
      "True True\n"
     ]
    }
   ],
   "source": [
    "print(\"CASE A:\")\n",
    "check_axioms(vect_len_mul)\n",
    "print('--------------')\n",
    "print('CASE B')\n",
    "check_axioms(triple_scalar)"
   ]
  },
  {
   "cell_type": "markdown",
   "id": "26bc0668",
   "metadata": {},
   "source": [
    "### Exercise 4"
   ]
  },
  {
   "cell_type": "code",
   "execution_count": 14,
   "id": "db33194c",
   "metadata": {},
   "outputs": [],
   "source": [
    "# б)"
   ]
  },
  {
   "cell_type": "code",
   "execution_count": 16,
   "id": "eeafbcbe",
   "metadata": {},
   "outputs": [
    {
     "data": {
      "text/plain": [
       "(0.0, 0.0, 0.0, 0.9999999999999999, 0.9999999999999999, 1.0)"
      ]
     },
     "execution_count": 16,
     "metadata": {},
     "output_type": "execute_result"
    }
   ],
   "source": [
    "two_sqrt = 1/np.sqrt(2)\n",
    "b1 = np.array([two_sqrt, -two_sqrt, 0])\n",
    "b2 = np.array([two_sqrt, two_sqrt, 0])\n",
    "b3 = np.array([0, 0, 1])\n",
    "b1.dot(b2), b1.dot(b3), b2.dot(b3), norm(b1), norm(b2), norm(b3)"
   ]
  },
  {
   "cell_type": "code",
   "execution_count": 19,
   "id": "af2113b4",
   "metadata": {},
   "outputs": [
    {
     "data": {
      "text/plain": [
       "(-0.25, 0.0, 0.5, 0.7071067811865476, 0.7071067811865476, 1.0)"
      ]
     },
     "execution_count": 19,
     "metadata": {},
     "output_type": "execute_result"
    }
   ],
   "source": [
    "b1 = np.array([0.5, -0.5, 0])\n",
    "b2 = np.array([0, 0.5, 0.5])\n",
    "b3 = np.array([0, 0, 1])\n",
    "b1.dot(b2), b1.dot(b3), b2.dot(b3), norm(b1), norm(b2), norm(b3)"
   ]
  },
  {
   "cell_type": "code",
   "execution_count": null,
   "id": "ba324c45",
   "metadata": {},
   "outputs": [],
   "source": []
  }
 ],
 "metadata": {
  "kernelspec": {
   "display_name": "Python 3 (ipykernel)",
   "language": "python",
   "name": "python3"
  },
  "language_info": {
   "codemirror_mode": {
    "name": "ipython",
    "version": 3
   },
   "file_extension": ".py",
   "mimetype": "text/x-python",
   "name": "python",
   "nbconvert_exporter": "python",
   "pygments_lexer": "ipython3",
   "version": "3.10.4"
  }
 },
 "nbformat": 4,
 "nbformat_minor": 5
}
