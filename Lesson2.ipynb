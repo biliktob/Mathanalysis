{
 "cells": [
  {
   "cell_type": "markdown",
   "id": "53660c88",
   "metadata": {},
   "source": [
    "# Задание1"
   ]
  },
  {
   "cell_type": "code",
   "execution_count": 8,
   "id": "56f98595",
   "metadata": {},
   "outputs": [],
   "source": [
    "import numpy as np\n",
    "from math import factorial as f"
   ]
  },
  {
   "cell_type": "code",
   "execution_count": 9,
   "id": "bb42bfec",
   "metadata": {},
   "outputs": [],
   "source": [
    "def choose(n,k):\n",
    "    return f(n) / (f(k) * f(n-k))"
   ]
  },
  {
   "cell_type": "code",
   "execution_count": 10,
   "id": "4739fadf",
   "metadata": {},
   "outputs": [],
   "source": [
    "def bern(p, n, k):\n",
    "    return choose(n,k) * p**(k) * (1-p)**(n-k)\n",
    "\n",
    "def puas(l,m):\n",
    "    return l**m/f(m)*np.exp(-1)"
   ]
  },
  {
   "cell_type": "code",
   "execution_count": 11,
   "id": "c901187e",
   "metadata": {},
   "outputs": [
    {
     "data": {
      "text/plain": [
       "0.048061793700746355"
      ]
     },
     "execution_count": 11,
     "metadata": {},
     "output_type": "execute_result"
    }
   ],
   "source": [
    "bern(0.8, 100, 85)"
   ]
  },
  {
   "cell_type": "markdown",
   "id": "ace3f095",
   "metadata": {},
   "source": [
    "# Задание2"
   ]
  },
  {
   "cell_type": "code",
   "execution_count": 12,
   "id": "993cbb22",
   "metadata": {},
   "outputs": [],
   "source": [
    "lmbd = 5000*0.0004"
   ]
  },
  {
   "cell_type": "code",
   "execution_count": 13,
   "id": "0e553023",
   "metadata": {},
   "outputs": [
    {
     "data": {
      "text/plain": [
       "0.36787944117144233"
      ]
     },
     "execution_count": 13,
     "metadata": {},
     "output_type": "execute_result"
    }
   ],
   "source": [
    "puas(lmbd, 0)"
   ]
  },
  {
   "cell_type": "code",
   "execution_count": 14,
   "id": "72e29eba",
   "metadata": {},
   "outputs": [
    {
     "data": {
      "text/plain": [
       "0.7357588823428847"
      ]
     },
     "execution_count": 14,
     "metadata": {},
     "output_type": "execute_result"
    }
   ],
   "source": [
    "puas(lmbd, 2)"
   ]
  },
  {
   "cell_type": "markdown",
   "id": "db201f21",
   "metadata": {},
   "source": [
    "# Задание3"
   ]
  },
  {
   "cell_type": "code",
   "execution_count": 16,
   "id": "caecf5cd",
   "metadata": {},
   "outputs": [
    {
     "data": {
      "text/plain": [
       "0.06281178035144776"
      ]
     },
     "execution_count": 16,
     "metadata": {},
     "output_type": "execute_result"
    }
   ],
   "source": [
    "bern(0.5, 144, 70)"
   ]
  },
  {
   "cell_type": "markdown",
   "id": "cfbd8afb",
   "metadata": {},
   "source": [
    "# Задание4"
   ]
  },
  {
   "cell_type": "code",
   "execution_count": 17,
   "id": "0af7fb7f",
   "metadata": {},
   "outputs": [
    {
     "data": {
      "text/plain": [
       "0.3054545454545455"
      ]
     },
     "execution_count": 17,
     "metadata": {},
     "output_type": "execute_result"
    }
   ],
   "source": [
    "(7*6*9*8)/(10*9*11*10)"
   ]
  },
  {
   "cell_type": "code",
   "execution_count": 21,
   "id": "e2d16f97",
   "metadata": {},
   "outputs": [
    {
     "data": {
      "text/plain": [
       "0.20484848484848484"
      ]
     },
     "execution_count": 21,
     "metadata": {},
     "output_type": "execute_result"
    }
   ],
   "source": [
    "(7/10)*(6/9)*(2/11)*(1/10) + (7/10)*(3/9)*(9/11)*(2/10) + (7/10)*(3/9)*(2/11)*(9/10) + (3/10)*(7/9)*(9/11)*(2/10) + (3/10)*(7/9)*(2/11)*(9/10) + (3/10)*(2/9)*(9/11)*(8/10)"
   ]
  },
  {
   "cell_type": "code",
   "execution_count": 22,
   "id": "935a59e5",
   "metadata": {},
   "outputs": [
    {
     "data": {
      "text/plain": [
       "0.9987878787878788"
      ]
     },
     "execution_count": 22,
     "metadata": {},
     "output_type": "execute_result"
    }
   ],
   "source": [
    "1-(3/10*2/9*2/11*1/10)"
   ]
  },
  {
   "cell_type": "code",
   "execution_count": null,
   "id": "31ddfec8",
   "metadata": {},
   "outputs": [],
   "source": []
  }
 ],
 "metadata": {
  "kernelspec": {
   "display_name": "Python 3 (ipykernel)",
   "language": "python",
   "name": "python3"
  },
  "language_info": {
   "codemirror_mode": {
    "name": "ipython",
    "version": 3
   },
   "file_extension": ".py",
   "mimetype": "text/x-python",
   "name": "python",
   "nbconvert_exporter": "python",
   "pygments_lexer": "ipython3",
   "version": "3.10.4"
  }
 },
 "nbformat": 4,
 "nbformat_minor": 5
}
