{
 "cells": [
  {
   "cell_type": "code",
   "execution_count": 9,
   "id": "0a67f837",
   "metadata": {},
   "outputs": [],
   "source": [
    "import numpy as np\n",
    "import random\n",
    "import math\n",
    "import itertools\n",
    "from sympy import factorial\n",
    "\n",
    "def f(n):\n",
    "    return n / pow(factorial(n), 1 / n)"
   ]
  },
  {
   "cell_type": "code",
   "execution_count": 10,
   "id": "3a172534",
   "metadata": {},
   "outputs": [
    {
     "name": "stdout",
     "output_type": "stream",
     "text": [
      "n_iter: 11779\n",
      "f(n) = 2.71698832372746\n",
      "CPU times: total: 22.7 s\n",
      "Wall time: 24.2 s\n"
     ]
    }
   ],
   "source": [
    "%%time\n",
    "eps = 10 ** -7\n",
    "i = 1\n",
    "n = 1\n",
    "x0 = f(n)\n",
    "while True:\n",
    "    i += 1\n",
    "    n += 1\n",
    "    x1 = f(n)\n",
    "    if abs(x0 - x1) <= eps:\n",
    "        break\n",
    "    x0 = x1\n",
    "print(f'n_iter: {i}')\n",
    "print(f'f(n) = {x0}')"
   ]
  },
  {
   "cell_type": "code",
   "execution_count": 11,
   "id": "b7ff1cbc",
   "metadata": {},
   "outputs": [
    {
     "name": "stdout",
     "output_type": "stream",
     "text": [
      "n_iter: 342\n",
      "f(n) = 2.71738638842485\n",
      "CPU times: total: 1.05 s\n",
      "Wall time: 1.18 s\n"
     ]
    }
   ],
   "source": [
    "%%time\n",
    "eps = 10 ** -7\n",
    "i = 1\n",
    "n = 1\n",
    "x0 = f(n)\n",
    "while True:\n",
    "    i += 1\n",
    "    n += random.randint(1, 100)\n",
    "    x1 = f(n)\n",
    "    if abs(x0 - x1) <= eps:\n",
    "        break\n",
    "    x0 = x1\n",
    "print(f'n_iter: {i}')\n",
    "print(f'f(n) = {x0}')"
   ]
  },
  {
   "cell_type": "code",
   "execution_count": null,
   "id": "e7e977ef",
   "metadata": {},
   "outputs": [],
   "source": []
  }
 ],
 "metadata": {
  "kernelspec": {
   "display_name": "Python 3 (ipykernel)",
   "language": "python",
   "name": "python3"
  },
  "language_info": {
   "codemirror_mode": {
    "name": "ipython",
    "version": 3
   },
   "file_extension": ".py",
   "mimetype": "text/x-python",
   "name": "python",
   "nbconvert_exporter": "python",
   "pygments_lexer": "ipython3",
   "version": "3.10.4"
  }
 },
 "nbformat": 4,
 "nbformat_minor": 5
}
