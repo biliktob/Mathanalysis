{
 "cells": [
  {
   "cell_type": "code",
   "execution_count": 3,
   "id": "f07edbb7",
   "metadata": {},
   "outputs": [],
   "source": [
    "import pandas as pd\n",
    "import numpy as np\n",
    "from matplotlib import pyplot as plt"
   ]
  },
  {
   "cell_type": "markdown",
   "id": "82747b94",
   "metadata": {},
   "source": [
    "# Задние №2"
   ]
  },
  {
   "cell_type": "code",
   "execution_count": 4,
   "id": "9ed06d5c",
   "metadata": {},
   "outputs": [
    {
     "name": "stdout",
     "output_type": "stream",
     "text": [
      "Правая граница равна 2.049193338482967\n"
     ]
    }
   ],
   "source": [
    "a = 0.5\n",
    "c = np.sqrt(2.4)\n",
    "b = c + a\n",
    "print(f'Правая граница равна {b}')"
   ]
  },
  {
   "cell_type": "code",
   "execution_count": 6,
   "id": "af86c028",
   "metadata": {},
   "outputs": [
    {
     "data": {
      "text/plain": [
       "1.2745966692414834"
      ]
     },
     "execution_count": 6,
     "metadata": {},
     "output_type": "execute_result"
    }
   ],
   "source": [
    "M = (a +b)/2\n",
    "M"
   ]
  },
  {
   "cell_type": "code",
   "execution_count": null,
   "id": "810c3425",
   "metadata": {},
   "outputs": [],
   "source": []
  }
 ],
 "metadata": {
  "kernelspec": {
   "display_name": "Python 3 (ipykernel)",
   "language": "python",
   "name": "python3"
  },
  "language_info": {
   "codemirror_mode": {
    "name": "ipython",
    "version": 3
   },
   "file_extension": ".py",
   "mimetype": "text/x-python",
   "name": "python",
   "nbconvert_exporter": "python",
   "pygments_lexer": "ipython3",
   "version": "3.10.4"
  }
 },
 "nbformat": 4,
 "nbformat_minor": 5
}
